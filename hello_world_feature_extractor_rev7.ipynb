{
 "cells": [
  {
   "cell_type": "code",
   "execution_count": 1,
   "metadata": {
    "collapsed": true
   },
   "outputs": [],
   "source": [
    "from __future__ import division\n",
    "from collections import Counter, defaultdict\n",
    "from pprint import pprint\n",
    "import numpy as np\n",
    "import pandas as pd"
   ]
  },
  {
   "cell_type": "markdown",
   "metadata": {},
   "source": [
    "### Custom Functions"
   ]
  },
  {
   "cell_type": "code",
   "execution_count": 2,
   "metadata": {
    "collapsed": false
   },
   "outputs": [],
   "source": [
    "from parsers import *\n",
    "from polarizer import *\n",
    "from scraper import *\n",
    "from summarizer import *"
   ]
  },
  {
   "cell_type": "markdown",
   "metadata": {},
   "source": [
    "### Pipeline"
   ]
  },
  {
   "cell_type": "code",
   "execution_count": 3,
   "metadata": {
    "collapsed": false
   },
   "outputs": [
    {
     "name": "stdout",
     "output_type": "stream",
     "text": [
      "url of amazon product: https://www.amazon.com/Justins-Nut-Butter-Almond-Classic/dp/B000V79VSY/ref=cm_cr_othr_d_product_top?ie=UTF8 \n"
     ]
    }
   ],
   "source": [
    "# https://www.amazon.com/Justins-Nut-Butter-Almond-Classic/dp/B000V79VSY/ref=cm_cr_othr_d_product_top?ie=UTF8 \n",
    "\n",
    "doc1 = Loader('almond butter')\n",
    "doc1.scrape(1000)"
   ]
  },
  {
   "cell_type": "code",
   "execution_count": 4,
   "metadata": {
    "collapsed": false
   },
   "outputs": [
    {
     "name": "stdout",
     "output_type": "stream",
     "text": [
      "url of amazon product: https://www.amazon.com/Peanut-Butter-Co-Sellers-Ounce/dp/B00CWYXLZ8/ref=sr_1_16_s_it?s=grocery&ie=UTF8&qid=1470366357&sr=1-16&keywords=peanut+butter\n"
     ]
    }
   ],
   "source": [
    "# https://www.amazon.com/Peanut-Butter-Co-Sellers-Ounce/dp/B00CWYXLZ8/ref=sr_1_16_s_it?s=grocery&ie=UTF8&qid=1470366357&sr=1-16&keywords=peanut+butter\n",
    "\n",
    "doc2 = Loader('peanut butter')\n",
    "doc2.scrape(1000)"
   ]
  },
  {
   "cell_type": "code",
   "execution_count": 5,
   "metadata": {
    "collapsed": false
   },
   "outputs": [
    {
     "name": "stdout",
     "output_type": "stream",
     "text": [
      "[(u'almond butter', 49),\n",
      " (u'jar', 24),\n",
      " (u'peanut butter', 16),\n",
      " (u'flavor', 15),\n",
      " (u'nut butter', 15),\n",
      " (u'oil', 11),\n",
      " (u'alternative', 8),\n",
      " (u'texture', 7),\n",
      " (u'sugar', 7),\n",
      " (u'ingredient', 7)]\n"
     ]
    },
    {
     "name": "stderr",
     "output_type": "stream",
     "text": [
      "parsers.py:157: FutureWarning: elementwise comparison failed; returning scalar instead, but in the future will perform elementwise comparison\n",
      "  arr = np.array(self.dep_dict[word]) == 'amod'\n"
     ]
    }
   ],
   "source": [
    "corpus1 = ReviewSents(doc1)\n",
    "\n",
    "unigramer1 = Unigramer()\n",
    "unigramer1.candidate_unigrams(corpus1)\n",
    "\n",
    "bigramer1 = Bigramer()\n",
    "bigramer1.candidate_bigrams(corpus1, unigramer1)\n",
    "unigramer1.update_review_count(bigramer1)\n",
    "\n",
    "aspects1 = get_top_aspects(corpus1, unigramer1, bigramer1)"
   ]
  },
  {
   "cell_type": "code",
   "execution_count": 6,
   "metadata": {
    "collapsed": false,
    "scrolled": false
   },
   "outputs": [
    {
     "name": "stdout",
     "output_type": "stream",
     "text": [
      "[(u'peanut butter', 75),\n",
      " (u'white chocolate', 43),\n",
      " (u'flavor', 26),\n",
      " (u'dark chocolate', 22),\n",
      " (u'jar', 14),\n",
      " (u'chocolate wonderful', 13),\n",
      " (u'smooth operator', 10),\n",
      " (u'ingredient', 9),\n",
      " (u'chocolate flavor', 9),\n",
      " (u'family', 8)]\n"
     ]
    }
   ],
   "source": [
    "corpus2 = ReviewSents(doc2)\n",
    "\n",
    "unigramer2 = Unigramer()\n",
    "unigramer2.candidate_unigrams(corpus2)\n",
    "\n",
    "bigramer2 = Bigramer()\n",
    "bigramer2.candidate_bigrams(corpus2, unigramer2)\n",
    "unigramer2.update_review_count(bigramer2)\n",
    "\n",
    "aspects2 = get_top_aspects(corpus2, unigramer2, bigramer2)"
   ]
  },
  {
   "cell_type": "code",
   "execution_count": 7,
   "metadata": {
    "collapsed": false
   },
   "outputs": [
    {
     "name": "stdout",
     "output_type": "stream",
     "text": [
      "array([[u'peanut butter', 16, 75],\n",
      "       [u'flavor', 15, 26],\n",
      "       [u'jar', 24, 14],\n",
      "       [u'ingredient', 7, 9],\n",
      "       [u'sugar', 7, 7]], dtype=object)\n"
     ]
    }
   ],
   "source": [
    "match_data, comm_aspects = common_features(aspects1, aspects2, corpus1, corpus2)"
   ]
  },
  {
   "cell_type": "code",
   "execution_count": 8,
   "metadata": {
    "collapsed": true
   },
   "outputs": [],
   "source": [
    "test_aspect = 'sugar'"
   ]
  },
  {
   "cell_type": "code",
   "execution_count": 9,
   "metadata": {
    "collapsed": false
   },
   "outputs": [
    {
     "name": "stdout",
     "output_type": "stream",
     "text": [
      "------------------------------------------------------------\n",
      "almond butter\n",
      "------------------------------------------------------------ \n",
      "\n",
      "----------------------------------------\n",
      "sugar\n",
      "---------------------------------------- \n",
      "\n",
      "average rating: 4.375\n",
      "positive: 42.9 %\n",
      "mixed: 57.1 %\n",
      "negative: 0.0 % \n",
      "\n",
      "Positive Sentiment\n",
      "----------------------------\n",
      "the yucky additives like sugar, hydrogenated vegetable oil (rapeseed, \n",
      "In my quest to remove most salt and sugar from my diet this appeared. \n",
      "parrots love it and I know they aren't getting unneeded sugar.\n",
      "\n",
      "Mixed Sentiment\n",
      "----------------------------\n",
      "I don't understand the somewhat low sugar content (depending on who you ask) \n",
      "until I tasted that I understood why our child's sugar levels was so erratic. \n",
      "but i cant believe it has least sugar among others where it taste so sweet \n",
      "Smokes regular Peanut Butter she says and much less fat and sugar content!!\n",
      "\n",
      "Negative Sentiment\n",
      "----------------------------\n",
      "\n"
     ]
    }
   ],
   "source": [
    "print '-'*60\n",
    "print doc1.name\n",
    "print '-'*60, '\\n'\n",
    "polarizer1 = Polarizer(unigramer1, bigramer1)\n",
    "polarizer1.polarize_aspects(corpus1, comm_aspects)\n",
    "polarizer1.print_polarity(corpus1, test_aspect)"
   ]
  },
  {
   "cell_type": "code",
   "execution_count": 10,
   "metadata": {
    "collapsed": false
   },
   "outputs": [
    {
     "name": "stdout",
     "output_type": "stream",
     "text": [
      "------------------------------------------------------------\n",
      "peanut butter\n",
      "------------------------------------------------------------ \n",
      "\n",
      "----------------------------------------\n",
      "sugar\n",
      "---------------------------------------- \n",
      "\n",
      "average rating: 4.71428571429\n",
      "positive: 42.9 %\n",
      "mixed: 57.1 %\n",
      "negative: 0.0 % \n",
      "\n",
      "Positive Sentiment\n",
      "----------------------------\n",
      "I don't like the extra sugar etc but again, as an occasional treat or an \n",
      "Tastes great  but lots more sugar content than other peanut butters, know howto \n",
      "We are fans of Nutella, but not the sugar high you get afterwards. \n",
      "\n",
      "Mixed Sentiment\n",
      "----------------------------\n",
      "for those who do not like their PB drenched in sugar like me.\n",
      "before thinning(pb, butter, pwd sugar...thinned with milk or heavy \n",
      "ingredients, just peanuts and a little oil (sugar for the chocolate ones).  \n",
      "since that is made of junky hydrogenated oils and sugar w/ artificial flavor.  \n",
      "\n",
      "Negative Sentiment\n",
      "----------------------------\n",
      "\n"
     ]
    }
   ],
   "source": [
    "print '-'*60\n",
    "print doc2.name\n",
    "print '-'*60, '\\n'\n",
    "polarizer2 = Polarizer(unigramer2, bigramer2)\n",
    "polarizer2.polarize_aspects(corpus2, comm_aspects)\n",
    "polarizer2.print_polarity(corpus2, test_aspect)"
   ]
  },
  {
   "cell_type": "code",
   "execution_count": null,
   "metadata": {
    "collapsed": true
   },
   "outputs": [],
   "source": []
  }
 ],
 "metadata": {
  "kernelspec": {
   "display_name": "Python 2",
   "language": "python",
   "name": "python2"
  },
  "language_info": {
   "codemirror_mode": {
    "name": "ipython",
    "version": 2
   },
   "file_extension": ".py",
   "mimetype": "text/x-python",
   "name": "python",
   "nbconvert_exporter": "python",
   "pygments_lexer": "ipython2",
   "version": "2.7.12"
  }
 },
 "nbformat": 4,
 "nbformat_minor": 0
}
