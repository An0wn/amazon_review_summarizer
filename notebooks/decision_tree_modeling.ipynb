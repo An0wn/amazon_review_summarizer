{
 "cells": [
  {
   "cell_type": "code",
   "execution_count": 1,
   "metadata": {
    "collapsed": true
   },
   "outputs": [],
   "source": [
    "from sklearn import tree\n",
    "from sklearn.cross_validation import train_test_split\n",
    "from sklearn.ensemble import RandomForestClassifier\n",
    "from sklearn import metrics\n",
    "import numpy as np\n",
    "import pandas as pd"
   ]
  },
  {
   "cell_type": "code",
   "execution_count": 2,
   "metadata": {
    "collapsed": false
   },
   "outputs": [
    {
     "name": "stdout",
     "output_type": "stream",
     "text": [
      "/Users/Alvin/Repos/amazon_review_summarizer/data\n"
     ]
    }
   ],
   "source": [
    "cd ../data"
   ]
  },
  {
   "cell_type": "markdown",
   "metadata": {},
   "source": [
    "### Polarity Data"
   ]
  },
  {
   "cell_type": "code",
   "execution_count": 3,
   "metadata": {
    "collapsed": false
   },
   "outputs": [],
   "source": [
    "df = pd.read_csv('labeled_random_reviews.csv')"
   ]
  },
  {
   "cell_type": "code",
   "execution_count": 4,
   "metadata": {
    "collapsed": false
   },
   "outputs": [],
   "source": [
    "# df = df[['Rating', 'TextBlob', 'VADER', 'Afinn', 'Label']]\n",
    "df = df[['Rating', 'TextBlob', 'Afinn', 'Label']]"
   ]
  },
  {
   "cell_type": "code",
   "execution_count": 5,
   "metadata": {
    "collapsed": true
   },
   "outputs": [],
   "source": [
    "from sklearn.cross_validation import train_test_split\n",
    "\n",
    "y = df.pop('Label')\n",
    "X = df.values\n",
    "\n",
    "X_train, X_test, y_train, y_test = train_test_split(X, y)"
   ]
  },
  {
   "cell_type": "code",
   "execution_count": 6,
   "metadata": {
    "collapsed": true
   },
   "outputs": [],
   "source": [
    "clf = tree.DecisionTreeClassifier(max_depth=3)\n",
    "forest = RandomForestClassifier(max_depth=3, n_estimators=100)"
   ]
  },
  {
   "cell_type": "code",
   "execution_count": 7,
   "metadata": {
    "collapsed": false
   },
   "outputs": [
    {
     "data": {
      "text/plain": [
       "RandomForestClassifier(bootstrap=True, class_weight=None, criterion='gini',\n",
       "            max_depth=3, max_features='auto', max_leaf_nodes=None,\n",
       "            min_samples_leaf=1, min_samples_split=2,\n",
       "            min_weight_fraction_leaf=0.0, n_estimators=100, n_jobs=1,\n",
       "            oob_score=False, random_state=None, verbose=0,\n",
       "            warm_start=False)"
      ]
     },
     "execution_count": 7,
     "metadata": {},
     "output_type": "execute_result"
    }
   ],
   "source": [
    "clf.fit(X_train, y_train)\n",
    "forest.fit(X_train, y_train)"
   ]
  },
  {
   "cell_type": "code",
   "execution_count": 8,
   "metadata": {
    "collapsed": false
   },
   "outputs": [
    {
     "name": "stdout",
     "output_type": "stream",
     "text": [
      "0.692\n",
      "0.72\n"
     ]
    }
   ],
   "source": [
    "y_pred = clf.predict(X_test)\n",
    "print metrics.accuracy_score(y_test, y_pred)\n",
    "\n",
    "y_pred2 = forest.predict(X_test)\n",
    "print metrics.accuracy_score(y_test, y_pred2)"
   ]
  },
  {
   "cell_type": "code",
   "execution_count": 9,
   "metadata": {
    "collapsed": false
   },
   "outputs": [
    {
     "name": "stdout",
     "output_type": "stream",
     "text": [
      "0.714\n"
     ]
    }
   ],
   "source": [
    "clf2 = tree.DecisionTreeClassifier(max_depth=3)\n",
    "clf2.fit(X, y)\n",
    "y_pred = clf2.predict(X)\n",
    "print metrics.accuracy_score(y, y_pred)"
   ]
  },
  {
   "cell_type": "markdown",
   "metadata": {},
   "source": [
    "### My decision tree-like predictor for polarity"
   ]
  },
  {
   "cell_type": "code",
   "execution_count": 10,
   "metadata": {
    "collapsed": true
   },
   "outputs": [],
   "source": [
    "def polarity_class(rating, blob, afinn):\n",
    "        '''\n",
    "        INPUT: str, int\n",
    "        OUTPUT: None\n",
    "\n",
    "        Args:\n",
    "            aspect: aspect dictionary to use\n",
    "            review: review to score polarity on\n",
    "\n",
    "        Function that determines polarity of a review.\n",
    "\n",
    "        Assigns positive/negative polarity class to polarity according to the\n",
    "        following custom rules:\n",
    "\n",
    "            pol_blob = polarity score from TextBlob\n",
    "            pol_afin = polarity score from Afinn\n",
    "\n",
    "            POS:      rating == 5 AND pol_blob > 0.1\n",
    "                   OR rating == 4 AND pol_blob > 0.45\n",
    "                   OR rating == 4 AND pol_blob > 0.2 and pol_afin >= 4\n",
    "                   OR rating == 3 AND pol_blob > 0.7\n",
    "            NEG:      rating == 1 AND pol_blob < 0\n",
    "                   OR rating == 1 AND pol_blob <= 0.2 AND pol_afin < 0\n",
    "                   OR rating == 2 AND pol_blob < 0\n",
    "                   OR rating == 2 AND pol_blob <= 0.175 AND pol_afin < 0\n",
    "                   OR rating == 3 AND pol_blob < 0\n",
    "            MIXED:    all other cases\n",
    "\n",
    "        Adds tuple of (review_txt, aspect_idx, rating, pol_blob) to\n",
    "        self.aspect_pol_list object.\n",
    "        '''\n",
    "        pol_blob = blob\n",
    "        pol_afin = afinn\n",
    "\n",
    "        if rating == 5 and pol_blob > 0.1:\n",
    "            result = 1\n",
    "        elif rating == 4 and pol_blob > 0.45:\n",
    "            result = 1\n",
    "        elif rating == 4 and pol_blob > 0.2:\n",
    "            result = 1 if pol_afin >= 4 else 0\n",
    "        elif rating == 3 and pol_blob > 0.7:\n",
    "            result = 1\n",
    "        elif rating == 3 and pol_blob < 0:\n",
    "            result = -1\n",
    "        elif rating == 2 and pol_blob < 0:\n",
    "            result = -1\n",
    "        elif rating == 2 and pol_blob <= 0.175:\n",
    "            result = -1 if pol_afin < 0 else 0\n",
    "        elif rating == 1 and pol_blob < 0:\n",
    "            result = -1\n",
    "        elif rating == 1 and pol_blob <= 0.2:\n",
    "            result = -1 if pol_afin < 0 else 0\n",
    "        else:\n",
    "            result = 0\n",
    "\n",
    "        return result"
   ]
  },
  {
   "cell_type": "code",
   "execution_count": 11,
   "metadata": {
    "collapsed": false
   },
   "outputs": [],
   "source": [
    "df['mymodel'] = df.apply(lambda x: polarity_class(x.Rating, x.TextBlob, x.Afinn), axis=1)"
   ]
  },
  {
   "cell_type": "code",
   "execution_count": 12,
   "metadata": {
    "collapsed": false
   },
   "outputs": [
    {
     "name": "stdout",
     "output_type": "stream",
     "text": [
      "0.723\n"
     ]
    }
   ],
   "source": [
    "print metrics.accuracy_score(y, df.mymodel.values)"
   ]
  },
  {
   "cell_type": "markdown",
   "metadata": {},
   "source": [
    "### Unigram Data"
   ]
  },
  {
   "cell_type": "code",
   "execution_count": 13,
   "metadata": {
    "collapsed": true
   },
   "outputs": [],
   "source": [
    "df2 = pd.read_csv('labeled_unigrams.csv')\n",
    "# df2 = df2[['amod_pct', 'avg_polar_word_pct', 'is_aspect']]\n",
    "df2 = df2[['amod_pct', 'is_aspect']]"
   ]
  },
  {
   "cell_type": "code",
   "execution_count": 14,
   "metadata": {
    "collapsed": true
   },
   "outputs": [],
   "source": [
    "y = df2.pop('is_aspect')\n",
    "X = df2.values"
   ]
  },
  {
   "cell_type": "code",
   "execution_count": 15,
   "metadata": {
    "collapsed": false
   },
   "outputs": [
    {
     "name": "stdout",
     "output_type": "stream",
     "text": [
      "0.739423076923\n",
      "0.783026421137\n"
     ]
    }
   ],
   "source": [
    "clf3 = tree.DecisionTreeClassifier(max_depth=1)\n",
    "clf3.fit(X, y)\n",
    "y_pred = clf3.predict(X)\n",
    "\n",
    "print metrics.accuracy_score(y, y_pred)\n",
    "print metrics.f1_score(y, y_pred)"
   ]
  },
  {
   "cell_type": "code",
   "execution_count": 16,
   "metadata": {
    "collapsed": false
   },
   "outputs": [
    {
     "name": "stdout",
     "output_type": "stream",
     "text": [
      "0.739423076923\n",
      "0.783026421137\n"
     ]
    }
   ],
   "source": [
    "y_pred = X >= 0.094\n",
    "print metrics.accuracy_score(y, y_pred)\n",
    "print metrics.f1_score(y, y_pred)"
   ]
  },
  {
   "cell_type": "markdown",
   "metadata": {},
   "source": [
    "### Bigram Data"
   ]
  },
  {
   "cell_type": "code",
   "execution_count": 17,
   "metadata": {
    "collapsed": true
   },
   "outputs": [],
   "source": [
    "df3 = pd.read_csv('labeled_bigrams.csv')\n",
    "df3 = df3[['Avg_Dist', 'PMI', 'is_aspect']]\n",
    "df3 = df3.dropna()"
   ]
  },
  {
   "cell_type": "code",
   "execution_count": 18,
   "metadata": {
    "collapsed": true
   },
   "outputs": [],
   "source": [
    "y = df3.pop('is_aspect')\n",
    "X = df3.values"
   ]
  },
  {
   "cell_type": "code",
   "execution_count": 19,
   "metadata": {
    "collapsed": false
   },
   "outputs": [
    {
     "name": "stdout",
     "output_type": "stream",
     "text": [
      "0.834388185654\n",
      "0.763197586727\n"
     ]
    }
   ],
   "source": [
    "clf4 = tree.DecisionTreeClassifier(max_depth=2)\n",
    "clf4.fit(X, y)\n",
    "y_pred = clf4.predict(X)\n",
    "\n",
    "print metrics.accuracy_score(y, y_pred)\n",
    "print metrics.f1_score(y, y_pred)"
   ]
  },
  {
   "cell_type": "code",
   "execution_count": 20,
   "metadata": {
    "collapsed": false
   },
   "outputs": [
    {
     "name": "stdout",
     "output_type": "stream",
     "text": [
      "0.824894514768\n",
      "0.761494252874\n"
     ]
    }
   ],
   "source": [
    "y_pred = (X[:,0] < 2) & (X[:,1] >= 0.0003)\n",
    "print metrics.accuracy_score(y, y_pred)\n",
    "print metrics.f1_score(y, y_pred)"
   ]
  },
  {
   "cell_type": "code",
   "execution_count": 21,
   "metadata": {
    "collapsed": false
   },
   "outputs": [
    {
     "name": "stdout",
     "output_type": "stream",
     "text": [
      "0.830168776371\n",
      "0.754946727549\n"
     ]
    }
   ],
   "source": [
    "y_pred = (X[:,0] < 1.565) & (X[:,1] >= 0.0003)\n",
    "print metrics.accuracy_score(y, y_pred)\n",
    "print metrics.f1_score(y, y_pred)"
   ]
  },
  {
   "cell_type": "markdown",
   "metadata": {},
   "source": [
    "### Export Tree"
   ]
  },
  {
   "cell_type": "code",
   "execution_count": 22,
   "metadata": {
    "collapsed": false
   },
   "outputs": [],
   "source": [
    "cols = ['rating', 'blob', 'afinn']\n",
    "\n",
    "with open('sentiment_tree.dot', 'w') as dotfile:\n",
    "    tree.export_graphviz(\n",
    "        clf2,\n",
    "        dotfile,\n",
    "        feature_names=cols)"
   ]
  },
  {
   "cell_type": "code",
   "execution_count": 23,
   "metadata": {
    "collapsed": true
   },
   "outputs": [],
   "source": [
    "cols = ['avg_dist', 'pmi']\n",
    "\n",
    "with open('bigram_tree.dot', 'w') as dotfile:\n",
    "    tree.export_graphviz(\n",
    "        clf4,\n",
    "        dotfile,\n",
    "        feature_names=cols)"
   ]
  },
  {
   "cell_type": "code",
   "execution_count": null,
   "metadata": {
    "collapsed": true
   },
   "outputs": [],
   "source": []
  }
 ],
 "metadata": {
  "kernelspec": {
   "display_name": "Python 2",
   "language": "python",
   "name": "python2"
  },
  "language_info": {
   "codemirror_mode": {
    "name": "ipython",
    "version": 2
   },
   "file_extension": ".py",
   "mimetype": "text/x-python",
   "name": "python",
   "nbconvert_exporter": "python",
   "pygments_lexer": "ipython2",
   "version": "2.7.12"
  }
 },
 "nbformat": 4,
 "nbformat_minor": 0
}
